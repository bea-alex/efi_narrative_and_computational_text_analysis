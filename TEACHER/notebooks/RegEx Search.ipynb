{
 "cells": [
  {
   "cell_type": "markdown",
   "id": "humanitarian-equipment",
   "metadata": {},
   "source": [
    "# Searching Text and Pattern Matching Using Regular Expressions"
   ]
  },
  {
   "cell_type": "markdown",
   "id": "mediterranean-switzerland",
   "metadata": {},
   "source": [
    "What you'll learn in this Notebook:\n",
    "\n",
    "- What regular expressions are.\n",
    "- How they work.\n",
    "- How to use them yourself to transform a dataset."
   ]
  },
  {
   "cell_type": "markdown",
   "id": "particular-apache",
   "metadata": {},
   "source": [
    "## 1. What are Regular Expressions and what are they useful for?\n",
    "\n",
    "**Regular Expression:** A regular expression (or RegEx) is a sequence of characters that specifies a search pattern in text. Such patterns are used by string-searching algorithms for \"find\" or \"find and replace\" words in text.\n",
    "\n",
    "You can use regular expressions for word frequency analysis (e.g. to find all mentions of the words ```woman``` or ```women```, to explore you dataset and see how particular vocabulary is used in context or to transform your dataset into a particular structure. Regular expression are a way to be a bit vague about text while being incredibly specific at the same time. The examples below will explain what we mean by that.\n",
    "\n",
    "In this notebook you will learn how to construct Regular Expressions. E.g., you can use a wildcard * or you can use a range of letters, e.g., [ae] (for a or e), [a-z] (for a to z), or numbers, e.g., [0-9] (for all single digits) etc. Regular Expressions can be very powerful if used correctly. For example, to find all mentions of the words woman or women you need to use the following Regular Expression: wom[ae]n.\n",
    "\n",
    "This notebook will give you a taster for using regular expressions and some examples. For a more detailed overview of Regular Expressions, you can refer to the Programming Historian lesson 'Understanding Regular Expressions' at https://programminghistorian.org/en/lessons/understanding-regular-expressions.\n",
    "\n",
    "## 2. Building a Regular Expression\n",
    "\n",
    "Let's stick with our example and let's imagine we want to see all tokens that refer to `women` in text. As human beings we know that this includes both the singlular `woman` and plural `women`. Computers need us to be very very specific, and so regular expressions provided us with a way to capture such small, acceptable differences when searching text.\n",
    "\n",
    "The way we arrive at a Regular Expression is a process of specifying what we want:\n",
    "\n",
    "- I could say: give me all occurances of `woman` and `women` and then add them all.\n",
    "- I could say: give me all occurances of `wom*n` where `*` is `a` or `e`. \n",
    "- I could use a RegEx to say give me all occurances of `wom[ae]n`.\n",
    "- I could use a RegEx to say give me all exact matches of `^wom[ae]n$` which also means that there can be nothing before or after these characters, so `superwomen` and `womenhood` will not be included."
   ]
  },
  {
   "cell_type": "markdown",
   "id": "expanded-chain",
   "metadata": {},
   "source": [
    "## 3. A simple RegEx Search\n",
    "\n",
    "We will teach you how to use regular expressions in Python to prepare your dataset and structure it for further analysis.  You first need to import the regular expression module ```re```."
   ]
  },
  {
   "cell_type": "code",
   "execution_count": null,
   "id": "alien-encoding",
   "metadata": {},
   "outputs": [],
   "source": [
    "import re"
   ]
  },
  {
   "cell_type": "markdown",
   "id": "directed-movement",
   "metadata": {},
   "source": [
    "Before we use RegEx on our dataset let's first use it on some example strings.\n",
    "\n",
    "Say I want to know if a given string matches my RegEx. I can try to 'find' a match to a RegEx in my string using the ```search()``` function which takes two parameters: the regular expression and the string you trying to find the RegEx in.\n",
    "\n",
    "There are two possible outcomes of searching for a RegEx:\n",
    "\n",
    "- **Found it**: RegEx did find a match and returns a `re.Match` object (you can think of this as `True`)\n",
    "- **Not Found it**: RegEx did not find a match and returns `None`  (you can think of this as `False`)\n",
    "\n",
    "Basically, either a particular string contains your RegEx or it does not.\n",
    "\n",
    "The first RegEx we will use is `^wom[ae]n$` and below we explain what it means:\n",
    "\n",
    "- `^` means: start here\n",
    "- `wom` and `n` look for these letters in this order\n",
    "- `[ae]` means: one character from this list, so `[ae]` means one character which is either `a` or `e`\n",
    "- `$` means: end here\n",
    "\n",
    "This way we can look for the words `women` and `woman` simultaneously."
   ]
  },
  {
   "cell_type": "code",
   "execution_count": null,
   "id": "handmade-community",
   "metadata": {},
   "outputs": [],
   "source": [
    "# search for regex and print result\n",
    "print(re.search('^wom[ae]n$', \"women\"))\n",
    "print(re.search('^wom[ae]n$', \"woman\"))\n",
    "print(re.search('^wom[ae]n$', \"something\"))  # no match\n",
    "print(re.search('^wom[ae]n$', \"superwoman\")) # not exact match, so no match"
   ]
  },
  {
   "cell_type": "markdown",
   "id": "loose-morning",
   "metadata": {},
   "source": [
    "You can see above that the first two regexs matched the specified string (the second parameter) whereas the last two didn't.\n",
    "\n",
    "Note that RegEx is case-sensitive so that's why we sometimes lowercase our text before doing frequency analysis for example.  The following three examples show this behaviour."
   ]
  },
  {
   "cell_type": "code",
   "execution_count": null,
   "id": "precise-darwin",
   "metadata": {},
   "outputs": [],
   "source": [
    "print(re.search('^wom[ae]n$', \"women\"))\n",
    "print(re.search('^wom[ae]n$', \"Women\"))\n",
    "print(re.search('^wom[ae]n$', \"WOMEN\"))"
   ]
  },
  {
   "cell_type": "markdown",
   "id": "future-generator",
   "metadata": {},
   "source": [
    "### 🐛 Mini task 3.1\n",
    "Try matching for \"man\" or \"men\" simultaneously in the strings \"man\", \"men\" or \"manhood\". What happens if you remove the \"^\" and \"$\" from the RegEx? Try out a few examples of your own."
   ]
  },
  {
   "cell_type": "code",
   "execution_count": null,
   "id": "split-divorce",
   "metadata": {},
   "outputs": [],
   "source": [
    "# Write your solution here"
   ]
  },
  {
   "cell_type": "markdown",
   "id": "rubber-botswana",
   "metadata": {},
   "source": [
    "<details><summary style='color:blue'>CLICK HERE TO SEE THE THE ANSWER. BUT REALLY TRY TO DO IT YOURSELF FIRST!</summary>\n",
    "\n",
    "    ### BEGIN SOLUTION\n",
    "\n",
    "print(re.search('^m[ae]n$', \"man\"))\n",
    "print(re.search('^m[ae]n$', \"men\"))\n",
    "print(re.search('^m[ae]n$', \"manhood\"))\n",
    "print(re.search('m[ae]n', \"manhood\"))\n",
    "...\n",
    "    ### END SOLUTION\n",
    "    \n",
    "</details>"
   ]
  },
  {
   "cell_type": "markdown",
   "id": "popular-calvin",
   "metadata": {},
   "source": [
    "## 4. Search and replace\n",
    "\n",
    "Next we'll show you how to search and replace strings using regular expressions. To do that we use the `sub()` function. It takes three parameters as input: 1) the regular expression, 2) the string replacement and 3 the string on which teh replacement is performed.\n",
    "\n",
    "Now take the sentence \"Every woman loves chocolate.\" Let's change the verb \"loves\" to \"hates\"."
   ]
  },
  {
   "cell_type": "code",
   "execution_count": null,
   "id": "treated-royalty",
   "metadata": {},
   "outputs": [],
   "source": [
    "# a sentence\n",
    "sentence=\"Every woman loves chocolate.\"\n",
    "\n",
    "# change verb to \"hates\"\n",
    "newSentence=re.sub('loves', 'hates', sentence)\n",
    "\n",
    "#print the new sentence\n",
    "print(newSentence)"
   ]
  },
  {
   "cell_type": "markdown",
   "id": "behind-forth",
   "metadata": {},
   "source": [
    "### 🐛 Mini task 4.1\n",
    "Try this out yourself and change the object to \"cheese\" (instead of chocolate)."
   ]
  },
  {
   "cell_type": "code",
   "execution_count": null,
   "id": "international-simpson",
   "metadata": {},
   "outputs": [],
   "source": [
    "# Write your solution here\n"
   ]
  },
  {
   "cell_type": "markdown",
   "id": "fundamental-question",
   "metadata": {},
   "source": [
    "<details><summary style='color:blue'>CLICK HERE TO SEE THE THE ANSWER. BUT REALLY TRY TO DO IT YOURSELF FIRST!</summary>\n",
    "\n",
    "    ### BEGIN SOLUTION\n",
    "sentence=\"Every woman loves chocolate.\"\n",
    "newSentence=re.sub('chocolate', 'cheese', sentence)\n",
    "print(newSentence)\n",
    "    ### END SOLUTION\n",
    "    \n",
    "</details>"
   ]
  },
  {
   "cell_type": "markdown",
   "id": "naval-favor",
   "metadata": {},
   "source": [
    "## 5. Using Regular Expressions to structure your data\n",
    "\n",
    "Next you use what you have learned to structure your dataset.\n",
    "\n",
    "First you need to know how to load the data.  You can do that using the `open()` function in Python. You also use the `read()` function to read the text that's in your specified file.  We are using the file called `Babysitting-Act3.txt` which is located in the data directory next to this notebook."
   ]
  },
  {
   "cell_type": "code",
   "execution_count": null,
   "id": "filled-morocco",
   "metadata": {},
   "outputs": [],
   "source": [
    "file = open('./data/Babysitting-Act3.txt') \n",
    "text = file.read() "
   ]
  },
  {
   "cell_type": "markdown",
   "id": "norman-mother",
   "metadata": {},
   "source": [
    "If you want to check that the text was correctly read in, you can print the `text` variable."
   ]
  },
  {
   "cell_type": "code",
   "execution_count": null,
   "id": "breathing-heritage",
   "metadata": {},
   "outputs": [],
   "source": [
    "print(text)"
   ]
  },
  {
   "cell_type": "markdown",
   "id": "integral-resort",
   "metadata": {},
   "source": [
    "You can see that each speaker is mentioned at the start of their utterances all the way through the transcript.  Utterances, and sometimes more than one sentence are placed on one line.  The transcript also contains additional sounds and noises in square brackets (e.g. `[INAUDIBLE]`).\n",
    "\n",
    "Next we'll perform a number of conversions to wrangle our data into a more structured table like format which mentions the speaker in front of each utterance and only contains words that were spoke without sound notations in square brackets, e.g.:\n",
    "\n",
    "|  |  |\n",
    "| --- | ----------- |\n",
    "| @Ira Glass | This is a story that caught our interest ... |\n",
    "| @Myron Jones | She had to say exactly where she was going ... |\n",
    "| @Carol Jones | ... |\n",
    "\n",
    "We chan achieve that using a tab-separated values (TSV) format.  The speaker is mentioned at the start of each line followed by a tab charachter and the utterance the speaker spoke.\n",
    "\n",
    "Before we do that you need to learn a few more notations for regular expressions.\n",
    "\n",
    "- `\\n` means a new line character\n",
    "- `\\t` means a tab character\n",
    "- `\\[` means a left square bracket character\n",
    "- `\\]` means a right square bracket character\n",
    "\n",
    "Each of these notations start with a backwards slash so as to not confuse them with either their character equivalents (for \"n\" and \"t\") or the RegEx syntax `[]` which is used to create a list of characters that could be matched, e.g. `[a-z]` meaning any lowercase alphabetic character or `[ae]` meaning either \"a\" or \"e\"."
   ]
  },
  {
   "cell_type": "markdown",
   "id": "catholic-terminology",
   "metadata": {},
   "source": [
    "First let's at an \"@\" sign to our three speakers so that we can distinguish them from their utterances. Note that the text variable we read in earlier from the file contains the entire transcript in one big string.\n",
    "\n",
    "So we need to find all the mentions of \"Ira Glass\", \"Myron Jones\" and \"Carol Jones\".\n",
    "\n",
    "We only want to do that to when they are mentioned on their own on a line not within the utterances.  So the regular expression for matching needs to contain a new line at the start and end of each speaker.\n",
    "\n",
    "After matched RegExes will then be replaced with a new string.  We add an '@' sign to the front of each speaker name and replace the trailing newline character with a tab charachter.  We will do that for each name and save the result into a new variable each time."
   ]
  },
  {
   "cell_type": "code",
   "execution_count": null,
   "id": "understanding-relevance",
   "metadata": {},
   "outputs": [],
   "source": [
    "conversion1 = re.sub('\\nIra Glass\\n', '\\n@Ira Glass\\t', text)\n",
    "conversion2 = re.sub('\\nMyron Jones\\n', '\\n@Myron Jones\\t', conversion1)\n",
    "conversion3 = re.sub('\\nCarol Jones\\n', '\\n@Carol Jones\\t', conversion2)"
   ]
  },
  {
   "cell_type": "markdown",
   "id": "announced-research",
   "metadata": {},
   "source": [
    "We have to do some further conversions to convert the text into the desired TSV format. \n",
    "\n",
    "First we need to replace all newlines with a whitespace character."
   ]
  },
  {
   "cell_type": "code",
   "execution_count": null,
   "id": "exceptional-trouble",
   "metadata": {},
   "outputs": [],
   "source": [
    "conversion4 = re.sub('\\n', ' ', conversion3)"
   ]
  },
  {
   "cell_type": "markdown",
   "id": "mediterranean-sellers",
   "metadata": {},
   "source": [
    "Next, we need to insert a newline character in front of each speaker name starting with '@'."
   ]
  },
  {
   "cell_type": "code",
   "execution_count": null,
   "id": "psychological-azerbaijan",
   "metadata": {},
   "outputs": [],
   "source": [
    "conversion5 = re.sub('@', '\\n@', conversion4)\n",
    "print(conversion5)"
   ]
  },
  {
   "cell_type": "markdown",
   "id": "entire-joint",
   "metadata": {},
   "source": [
    "We also need to remove the interjections and sounds noted in square brackets."
   ]
  },
  {
   "cell_type": "code",
   "execution_count": null,
   "id": "bizarre-textbook",
   "metadata": {},
   "outputs": [],
   "source": [
    "conversion6 = re.sub('\\[.*?\\]', '', conversion5)\n",
    "print(conversion6)"
   ]
  },
  {
   "cell_type": "markdown",
   "id": "composed-circumstances",
   "metadata": {},
   "source": [
    "Lastly, we only want to keep the lines starting with a speaker (@), so not the title (\"Act Three: Yes There Is A Baby\").  There are various ways to do that.\n",
    "\n",
    "The most general way to do this is to split the converted text at each newline character into a list of strings (lines).  We then loop through this list of lines using a for loop combined with an if statment.  If the the line starts with an '@' we keep it.  We use the `startswith()` function to do this.  We create a new cleaned text string variable `cleanedText` which only adds the matched lines and ignores any lines that don't start with '@'."
   ]
  },
  {
   "cell_type": "code",
   "execution_count": null,
   "id": "compliant-johnson",
   "metadata": {},
   "outputs": [],
   "source": [
    "# create empty variable\n",
    "cleanedText=\"\"\n",
    "\n",
    "# loop through list of lines (i.e. converted file split on newlines)\n",
    "for line in conversion6.split('\\n'):\n",
    "    \n",
    "    # if the line start with @ then add it to the cleaneText variable followed by a newline\n",
    "    # we also strip any trailing whitespace using the strip() function\n",
    "    if line.startswith('@'):\n",
    "        cleanedText = cleanedText+line.strip()+\"\\n\"\n",
    "\n",
    "# print cleaned Text\n",
    "print(cleanedText)   "
   ]
  },
  {
   "cell_type": "markdown",
   "id": "precious-march",
   "metadata": {},
   "source": [
    "Hurray, we have created our tab-speparated format. \\O/\n",
    "\n",
    "Now we need to write the string to a new file and save it in the data directory so that we can use it later.  We do that using the `open()` and `write()` functions. Note that we can specify the format using the .tsv file extension (`Babysitting-Act3-cleaned.tsv`).  That way it's easier to tell that the format of our new cleaned file is TSV.\n",
    "\n",
    "Go and take a look that it has appeared in the data directory once you've run the next bit of code."
   ]
  },
  {
   "cell_type": "code",
   "execution_count": null,
   "id": "active-release",
   "metadata": {},
   "outputs": [],
   "source": [
    "with open('./data/Babysitting-Act3-cleaned.tsv', 'w') as f:\n",
    "    f.write(cleanedText)"
   ]
  },
  {
   "cell_type": "markdown",
   "id": "disciplinary-kitchen",
   "metadata": {},
   "source": [
    "### 🦋 Extra task 5.1 (optional): \n",
    "\n",
    "If you have finished everything else already, can you think of another way of filtering out the title but using the `sub()` function? "
   ]
  },
  {
   "cell_type": "code",
   "execution_count": null,
   "id": "harmful-european",
   "metadata": {},
   "outputs": [],
   "source": [
    "# Write your solution here\n"
   ]
  },
  {
   "cell_type": "markdown",
   "id": "classified-serial",
   "metadata": {},
   "source": [
    "<details><summary style='color:blue'>CLICK HERE TO SEE THE THE ANSWER. BUT REALLY TRY TO DO IT YOURSELF FIRST!</summary>\n",
    "\n",
    "    ### BEGIN SOLUTION\n",
    "conversion6 = re.sub('Act Three: Yes There Is A Baby\\n', '', conversion7)\n",
    "print(conversion7)\n",
    "    ### END SOLUTION\n",
    "    \n",
    "</details>"
   ]
  },
  {
   "cell_type": "code",
   "execution_count": null,
   "id": "sorted-syracuse",
   "metadata": {},
   "outputs": [],
   "source": []
  }
 ],
 "metadata": {
  "kernelspec": {
   "display_name": "Python 3",
   "language": "python",
   "name": "python3"
  },
  "language_info": {
   "codemirror_mode": {
    "name": "ipython",
    "version": 3
   },
   "file_extension": ".py",
   "mimetype": "text/x-python",
   "name": "python",
   "nbconvert_exporter": "python",
   "pygments_lexer": "ipython3",
   "version": "3.7.10"
  }
 },
 "nbformat": 4,
 "nbformat_minor": 5
}

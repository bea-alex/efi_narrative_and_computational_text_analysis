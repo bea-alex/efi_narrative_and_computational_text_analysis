{
 "cells": [
  {
   "cell_type": "markdown",
   "metadata": {},
   "source": [
    "# Introduction to Jupyter Notebook and Python\n",
    "\n",
    "This introduction to Jupyter Notebook and Python is part of the EFI Narrative and Computational Text Analysis pre-intenisive and is self-taught. It's set up to run on the University of Edinburgh's Noteable service which means that it can be done on a browser and works on different operating systems (Windows, Linux or Mac). You can complete this introduction at any time during the pre-intensive of this course but we ask you to have it completed before the intensive. \n",
    "\n",
    "## 1. Prerequisites \n",
    "\n",
    "### Prior Knowledge\n",
    "\n",
    "This introduction is aimed at students without any prior experience with text analysis of data sets.  You will benefit from knowing how to work in a Jupyter Notebook, how to run code on it and how to do basic coding in the programming language Python, but we will go over each step required in this introduction for anyone with no previous knowledge of these things.\n",
    "\n",
    "### Help\n",
    "\n",
    "We will take it slowly.  If any of the code does not work in your own browser on Noteable, we will do our best to help fix things for you during office hours.  If you end up getting stuck, please don't despair. The goal is to understand the principles of Python and if you can get things running yourself then that's a bonus. "
   ]
  },
  {
   "cell_type": "markdown",
   "metadata": {},
   "source": [
    "## 2. Introduction\n",
    "\n",
    "Welcome to this introduction to Jupyter Notebook and Python. Here we will run through some of the basics that you will need when exploring and analysing text data.\n",
    "\n",
    "To start with, here is a bit of basic terminology that will be used in this course:\n",
    "\n",
    "__Token:__ a single word, letter, number or punctuation mark\n",
    "\n",
    "__String:__ a group of characters comprised of words, letters, numbers, and/or punctuation\n",
    "\n",
    "__Integer:__ a positive or negative whole number with no decimal point\n",
    "\n",
    "__Float:__ a positive or negative number with a decimal point\n",
    "\n",
    "__Stop words:__ generally the most common words in a language (e.g. \"the\", \"of\", \"and\" etc.) which are sometimes filtered out for text analysis purposes in order to focus on the other vocabulary in the text.\n",
    "\n",
    "__Document:__ a single file containing some text"
   ]
  },
  {
   "cell_type": "markdown",
   "metadata": {},
   "source": [
    "## 3. Introduction to Noteable and Jupyter Notebooks\n",
    "\n",
    "For this lesson, we'll use [Noteable](https://noteable.edina.ac.uk), the University of Edinburgh's [Jupyter Notebook](https://jupyter.org) server. Jupyter Notebook is an open-source web application that allows you to create and share documents that contain live code, equations, visualisations and narrative text.  We interact with Noteable via a browser window rather than using a separate stand-alone application.  So, Noteable makes Jupyter Notebook operating-system-independent which means that there are no prior setup instructions for different operating systems.\n",
    "\n",
    "### 3.1 Starting Noteable\n",
    "To start the introduction within a Jupyter Notebook, you first need to start the Noteable service in your Learn Ultra course (click on the link provided in the course). This will open a new tab in your browser and you have to click \"Start\".\n",
    "\n",
    "This will open up a browser window or tab containing the base directory of where you can store your new notebooks on your computer.  It may take a couple of seconds for the browser window to open.\n",
    "\n",
    "### 3.2 Creating a new notebook\n",
    "\n",
    "To create a new notebook you need to select a location for it on your computer (via the browser window that opened up) and click on \"New\" in the top right corner of Noteable.  You also need to select Python 3 to do so.\n",
    "\n",
    "![Starting a new notebook](../images/starting-notebook-noteable.png)\n",
    "\n",
    "Once the new notebook opens you can give it a name by changing the word \"Untitled\" in the first line of the new notebook. Give your notebook a name like ‘My Introduction to Python’.\n",
    "\n",
    "![A new notebook](../images/new-notebook-noteable.png)\n",
    "\n",
    "You can see the first cell in your new notebook starting with \"In \\[ \\]\".  You can enter Python code into this cell and press \"> Run\" as long as it is marked as \"Code\" in the menu at the top of your notebook.  This will run your code and you will see any output created by the code immediately below it. If you simply press Enter, this won’t run the code. Instead, use the keyboard shortcut for \"Run\" which is Shift-Enter. (To run the cell you are currently on and insert a new cell below, use Alt-Enter.)\n",
    "\n",
    "Notebooks are really useful because they allow you to have your notes and your code in one place:\n",
    "\n",
    "- Notes (or Markdown) cells: like what you are reading now, are cells of written text that explain concepts\n",
    "- Code cells: like the `2+3` below are parts of Python programming code, that you can RUN (we will show you how). This means that the code (like `2+3`) will be interpreted by the Python (`oh, I think they are asking me to add two numbers, 2 and 3`) and executed (`that's 5, here you go`). When the code is being run, Python will kindly return you the result, and we will learn later how to show it (print it) in a bit nicer ways."
   ]
  },
  {
   "cell_type": "code",
   "execution_count": null,
   "metadata": {},
   "outputs": [],
   "source": [
    "2 + 3 \n",
    "\n",
    "# above is your first piece of Python code and this line is a comment. \n",
    "# Comments are notes you can leave inside of your code, \n",
    "# they start with a # and are ignored by the Python\n",
    "\n",
    "# To 'RUN' this cell, select this cell and click '> Run' above \n",
    "# (or if you're into keyboard shortcuts use Shift+Enter )"
   ]
  },
  {
   "cell_type": "markdown",
   "metadata": {},
   "source": [
    "When the code above is **interpreted** (or **run**) you should see the result below the cell you have ran.\n",
    "\n",
    "Do you see it? Spoiler alert, it should be 5, because if you interpret the `2+3` operation, it will result in a number `5`. \n",
    "\n",
    "Notice that when you run a cell, the next cell is automatically highlighted.  Also when you press run on a bit of code in your notebook, you will know that the processing is finished when the asterix in square brackets ```[*]``` to the left of the window changes to a number. The number tells you the order in which Python has run the cells, so if you run cells out of order (and get unexpected errors), looking at the numbering allows you to check that you are running cells in the right order.\n",
    "\n",
    "Run the cells below and see what happens (basically click \"Run\" a few times, or press Shift+Enter a few times).\n",
    "\n",
    "What do you expect to see?"
   ]
  },
  {
   "cell_type": "code",
   "execution_count": null,
   "metadata": {},
   "outputs": [],
   "source": [
    "# numbers need no quotes around them. Python will use maths to add them\n",
    "20+30"
   ]
  },
  {
   "cell_type": "code",
   "execution_count": null,
   "metadata": {},
   "outputs": [],
   "source": [
    "100 + 123"
   ]
  },
  {
   "cell_type": "markdown",
   "metadata": {},
   "source": [
    "The ```+``` sign is also used to concatenate strings like so:"
   ]
  },
  {
   "cell_type": "code",
   "execution_count": null,
   "metadata": {},
   "outputs": [],
   "source": [
    "# But words have quotes, and Python will use grammar to add them\n",
    "\"hello\" + \"my\" + \"friend\""
   ]
  },
  {
   "cell_type": "code",
   "execution_count": null,
   "metadata": {},
   "outputs": [],
   "source": [
    "# oh no, the one above is too close together.\n",
    "# We could try to add spaces, but it starts looking complicated.\n",
    "\"hello\" + \" \" + \"my\"  + \" \" + \"friend\""
   ]
  },
  {
   "cell_type": "markdown",
   "metadata": {},
   "source": [
    "You can change the text in the cell of a notebook and re-run the cell as many times as you like, to see the difference.\n",
    "\n",
    "You can create a new cell by clicking on the plus (+) button on the menu, top left.  Try that out now, type in another sum and run the cell."
   ]
  },
  {
   "cell_type": "markdown",
   "metadata": {},
   "source": [
    "This should be all you need for using a notebook in this introduction but more information on how to use Jupyter Notebook and how to store a notebook can be found in this Data Carpentries lesson [Overview of Jupyter Notebook](https://datacarpentry.org/python-ecology-lesson/jupyter_notebooks/)."
   ]
  },
  {
   "cell_type": "markdown",
   "metadata": {},
   "source": [
    "## 4. Introduction to Python\n",
    "\n",
    "### You will learn:\n",
    "\n",
    "- Python fundamentals and syntax\n",
    "- Run and write Python code\n",
    "\n",
    "### How to learn using a notebook:\n",
    "\n",
    "- Read through the cells with explanations\n",
    "- Run all the cells that contain code\n",
    "\n",
    "(Reminder: To run a selected cell use the keyboard shortcut Shift+Enter or click the >Run button at the top)\n",
    "\n",
    "### 4.1 What is Python?\n",
    "\n",
    "Python is a programming language. We will use it as a way to interact with and analyse text documents. We can use Python either through the command line in your terminal window, by writing Python scripts or via a notebook (as in this introduction).\n",
    "\n",
    "This introduction to Python is important for understanding the other notebooks you'll be using in this course. If you are new to programming it may not be entirely clear why you need to learn Python first. Bear with us, you will soon understand why it is needed and useful and it will help to speed things up later-on.\n",
    "\n",
    "We will limit this introduction to the level of Python required for this lesson. For a more in-depth introduction to Python, we recommend the following [Library Carpentries lesson](https://librarycarpentry.org/lc-python-intro/).\n",
    "\n",
    "### 4.2 Printing text on screen\n",
    "\n",
    "So far we were sort of cheating by \"returning\" the result of our code. Returning happens when Python reaches the end of a cell and isn't told what to do, so it just panics and returns the most recent things it knows about. Returning is not the kindest way to show something on the screen. A nicer way is to kindly ask Python to \"print\" things.\n",
    "\n",
    "`print()` is a python's function/method that prints (shows/displays) something on the screen. \n",
    "\n",
    "Functions are sort of like skills that python creators created for you. You can use them to achieve what you're after. We will learn a few of them in a minute.\n",
    "\n",
    "Like every function, print() has a:\n",
    "\n",
    "- **name** usually describing the action it'll do, e.g. `print`\n",
    "- **arguments** in brackets, the things we want to use for that action e.g. `(\"Hello\")` or `(\"Hello\",\"my\",\"friend\")`\n",
    "\n",
    "We first want to test that Python works by asking it to print a string, so type ```print(\"Hello World\")``` into the next cell as shown below and run it as code.  Then try it out yourself with other text."
   ]
  },
  {
   "cell_type": "code",
   "execution_count": null,
   "metadata": {},
   "outputs": [],
   "source": [
    "print(\"Hello World\")"
   ]
  },
  {
   "cell_type": "code",
   "execution_count": null,
   "metadata": {},
   "outputs": [],
   "source": [
    "print(\"I can print!\")\n",
    "print(\"All the things\")"
   ]
  },
  {
   "cell_type": "markdown",
   "metadata": {},
   "source": [
    "### 🐛 Mini Task 4.1"
   ]
  },
  {
   "cell_type": "code",
   "execution_count": null,
   "metadata": {},
   "outputs": [],
   "source": [
    "# Try out printing something below here by typing in this cell and running it"
   ]
  },
  {
   "cell_type": "markdown",
   "metadata": {},
   "source": [
    "<details><summary style='color:blue'>CLICK HERE TO SEE THE THE ANSWER. BUT TRY TO DO IT YOURSELF FIRST!</summary>\n",
    "\n",
    "    ### BEGIN SOLUTION\n",
    "    print(\"What shall I print?\")\n",
    "    ### END SOLUTION\n",
    "    \n",
    "</details>"
   ]
  },
  {
   "cell_type": "markdown",
   "metadata": {},
   "source": [
    "You know how you teach a dog to `fetch`. It would not make much sense to tell a dog to fetch, but not tell it what object it needs to fetch. That's why you would normally show the dog a ball or a stick, and then shout `fetch` as you throw it. In progamming terms you would do something like `dog.fetch(\"stick\")` or `dog.fetch(\"ball\")`. This will all start looking familiar soon. (Note: the .fetch() syntax is a method, which is similar to a function except it is called on an object, which in this example is dog).\n",
    "\n",
    "Did you notice that the results get printed underneath the cell, but without the ugly **Out[123]:** on the left, like it did in the previous examples?  That's because we printed the text, not just 'returned the result'. Printing is a nicer and often more readable way to get Python to show something.\n",
    "\n",
    "Also notice that you can give many arguments to the `print()` function. What will happen is they will get separated by spaces, so they look better. It will help us to improve that complicated code from above with all the plus signs."
   ]
  },
  {
   "cell_type": "code",
   "execution_count": null,
   "metadata": {},
   "outputs": [],
   "source": [
    "print(\"Hello\",\"my\",\"friend\")"
   ]
  },
  {
   "cell_type": "markdown",
   "metadata": {},
   "source": [
    "### 🐛 Mini Task 4.2\n",
    "\n",
    "Add some code in the cell below:\n",
    "- that will print your full name, \n",
    "- and another line that will print your favourite pizza toppings.\n",
    "\n",
    "and then run the cell.\n",
    "\n",
    "Do you see your words displayed on the screen? Yay! You are a Python programmer now."
   ]
  },
  {
   "cell_type": "code",
   "execution_count": null,
   "metadata": {},
   "outputs": [],
   "source": [
    "# write your answer here"
   ]
  },
  {
   "cell_type": "markdown",
   "metadata": {},
   "source": [
    "<details><summary style='color:blue'>CLICK HERE TO SEE THE THE ANSWER. BUT TRY TO DO IT YOURSELF FIRST!</summary>\n",
    "\n",
    "    ### BEGIN SOLUTION\n",
    "    print(\"Beatrice Alex\")\n",
    "    print(\"goats cheese\")\n",
    "    ### END SOLUTION\n",
    "    \n",
    "</details>"
   ]
  },
  {
   "cell_type": "markdown",
   "metadata": {},
   "source": [
    "### 4.3 Variables and how to use (i.e. assign) them\n",
    "\n",
    "So far each line of code has been a world of its own. Once it's 'Run', it forgets everything. It might have printed something or returned something but nothing is **stored for later**, unless we use a digital way to store things, called a VARIABLE.\n",
    "\n",
    "A variable is like a locker in which you can store things, and just as a locker has its number and its contents, each variable has a: \n",
    "\n",
    "- **name** like a label on the locker, so we can find it later, and some\n",
    "- **content** something we put inside it to use later\n",
    "\n",
    "For example we can put the string “text mining” into the locker named “superpower”, as follows:"
   ]
  },
  {
   "cell_type": "code",
   "execution_count": null,
   "metadata": {},
   "outputs": [],
   "source": [
    "superpower = \"Text Mining\"\n",
    "# run this cell now, but do not worry if you do not see anything returned or printed!"
   ]
  },
  {
   "cell_type": "markdown",
   "metadata": {},
   "source": [
    "This part will be a bit confusing to some of you: the symbol **=** means something else in programming than what it means in maths (where it means 'equals').\n",
    "\n",
    "The equals symbol **=** in Python is called an 'assignment operator' because it assigns what's on the right of it to what's on the left. It works a bit like a left-pointing arrow **<---**  To extend the variable-as-locker analogy, it is more like the word ‘contains’.\n",
    "\n",
    "You can imagine\n",
    "\n",
    "`superpower = \"Text Mining\"`\n",
    "\n",
    "as:\n",
    "\n",
    "`superpower <--- \"Text Mining\"`\n",
    "\n",
    "It will take the text value on the right hand side (`\"Text Mining\"`) and store it for later (assign it) to a variable on the left hand side (`superpower`). Notice variable names have no quotes around them.\n",
    "\n",
    "so this code\n",
    "\n",
    "`contents_of_my_locker = \"shoes\"`\n",
    "\n",
    "is a bit like \n",
    "\n",
    "`contents_of_my_locker <--- \"shoes\"`\n",
    "\n",
    "and puts the word `\"shoes\"` into the variable `contents_of_my_locker`.\n",
    "\n",
    "You can see the content of the variable (i.e. what's in the locker) by printing the value of it using the ```print()``` function and the variable name as shown:"
   ]
  },
  {
   "cell_type": "code",
   "execution_count": null,
   "metadata": {},
   "outputs": [],
   "source": [
    "# When you ran the previous code cell it did NOT return or print anything.\n",
    "# But it did something even more useful: \n",
    "# it remembered the words \"Text Mining\" forever in a variable called superpower.\n",
    "# So now you can use that variable in other cells below:\n",
    "\n",
    "print(superpower)\n",
    "print(\"My new superpower is \" + superpower)"
   ]
  },
  {
   "cell_type": "markdown",
   "metadata": {},
   "source": [
    "Notice the difference between using \"superpower\" as a word, and superpower as a variable name. Python does not like guessing what we mean, so we need to explicitely specify if we mean something as a name of a variable or text. In Python, the font colour can often help you identify what is interpreted as what. So in the above code a bit of text (a string) is highlighted in red font, variables are black and functions are green.\n",
    "\n",
    "We could have chosen something other than ‘superpower’ when choosing the variable name – ‘term’, or ‘celery’ or ‘tjdiasdfuah’. You can give a variable any name (mostly) and Python will understand that.  While you can chose any variable name, it is good practice to name the variable after what it represents.  In this case ```superpower``` is actually not the best description of the string it contains.  Instead we could call it ```skill```.  The reason for choosing meaningful names is to make it easier to read and understand the code."
   ]
  },
  {
   "cell_type": "markdown",
   "metadata": {},
   "source": [
    "You can create as many variables as you want, as long as their names are unique, and do not contain spaces. Also Python likes to use underscores (_) for multi-word variable names."
   ]
  },
  {
   "cell_type": "code",
   "execution_count": null,
   "metadata": {},
   "outputs": [],
   "source": [
    "student_name = \"Nicola Minestrone\"\n",
    "course_title = \"Text Mining\"\n",
    "print(student_name, \"is taking the\", course_title, \"course\")"
   ]
  },
  {
   "cell_type": "markdown",
   "metadata": {},
   "source": [
    "### 🐛 Mini Task 4.3\n",
    "\n",
    "Try to explain in your own words what's happening in the code below. Then change the name of the variable into `surname`, assign your own surname to it and print it. You might see some errors, but do not worry."
   ]
  },
  {
   "cell_type": "code",
   "execution_count": null,
   "metadata": {},
   "outputs": [],
   "source": [
    "friend = \"Natalie\"\n",
    "\n",
    "print(\"hello \" + \"friend\")\n",
    "print(\"hello \" + friend)"
   ]
  },
  {
   "cell_type": "markdown",
   "metadata": {},
   "source": [
    "<details><summary style='color:blue'>CLICK HERE TO SEE THE THE ANSWER. BUT TRY TO DO IT YOURSELF FIRST!</summary>\n",
    "\n",
    "    ### BEGIN SOLUTION\n",
    "    surname=\"Alex\"\n",
    "    print(\"hello \" + surname)\n",
    "    ### END SOLUTION\n",
    "    \n",
    "</details>"
   ]
  },
  {
   "cell_type": "markdown",
   "metadata": {},
   "source": [
    "### 4.4 Types of variables: String, Integer, Float"
   ]
  },
  {
   "cell_type": "markdown",
   "metadata": {},
   "source": [
    "While in this introduction we will be concentrating mainly on strings, variables can hold different 'types' of things:"
   ]
  },
  {
   "cell_type": "code",
   "execution_count": null,
   "metadata": {},
   "outputs": [],
   "source": [
    "superpower = \"Text Mining\"  # String: holds text, has quotes \"\" or ''\n",
    "number = 42  # Integer: holds whole numbers, no quotes\n",
    "pi_value = 3.1415  # Float: numbers with decimal places, in some context you might also see 'double'\n",
    "print(superpower, number, pi_value)"
   ]
  },
  {
   "cell_type": "code",
   "execution_count": null,
   "metadata": {},
   "outputs": [],
   "source": [
    "# can you guess what will be printed before you run this cell?\n",
    "\n",
    "print(123 + 123)\n",
    "print(\"123\" + \"123\")"
   ]
  },
  {
   "cell_type": "markdown",
   "metadata": {},
   "source": [
    "This happened because when we add two words, Python glues them together in order, but when we add two numbers then it uses maths.\n",
    "\n",
    "But what when the below scenario happens:"
   ]
  },
  {
   "cell_type": "code",
   "execution_count": null,
   "metadata": {},
   "outputs": [],
   "source": [
    "print(\"The meaning of life is \" + 42)\n",
    "\n",
    "# BRACE BRACE! this code is not correct and will freak out,\n",
    "# but don't worry. Run this cell and see what happens!"
   ]
  },
  {
   "cell_type": "markdown",
   "metadata": {},
   "source": [
    "Errors are your best friends and they really do their best to explain:\n",
    "\n",
    "- where something went wrong (green arrow) `---->`\n",
    "- what is wrong & how you can fix it. (last line) `TypeError: can only concatenate str (not \"int\") to str` which means that the print function can only concatenate a string to a string and not an integer to a string."
   ]
  },
  {
   "cell_type": "markdown",
   "metadata": {},
   "source": [
    "### 🐛 Mini Task 4.4\n",
    "\n",
    "Can you fix the above line of code so that it prints \"The meaning of life is 42\" and run it again? There are a few ways to achieve that. Try to use the fact Python knows how to add two strings - how do you make something a string?"
   ]
  },
  {
   "cell_type": "code",
   "execution_count": null,
   "metadata": {},
   "outputs": [],
   "source": [
    "# write your answer here:"
   ]
  },
  {
   "cell_type": "markdown",
   "metadata": {},
   "source": [
    "<details><summary style='color:blue'>CLICK HERE TO SEE THE THE ANSWER. BUT TRY TO DO IT YOURSELF FIRST!</summary>\n",
    "\n",
    "    ### BEGIN SOLUTION\n",
    "    print(\"The meaning of life is 42\")\n",
    "    print(\"The meaning of life is \" + \"42\")\n",
    "    ### END SOLUTION\n",
    "</details>"
   ]
  },
  {
   "cell_type": "markdown",
   "metadata": {},
   "source": [
    "### 4.5 Lists (Collections of things)\n",
    "\n",
    "We have just looked at variables and how they can contain a single thing (a string of words, a whole number, a number with a decimal point). Variables can also contain more than one thing, for example a list.\n",
    "\n",
    "Lists are used to group data together in an ordered way. Lists are very common data structures used in Python, for example to represent text.\n",
    "\n",
    "You can represent the quote from George Orwell (1984) as one long string:\n",
    "\n",
    "`sentence = \"It was a bright cold day in April, and the clocks were striking thirteen.\"`\n",
    "\n",
    "but you can also store it as a list of its tokens (words and punctuation):\n",
    "\n",
    "`tokens = [\"It\",\"was\",\"a\",\"bright\",\"cold\",\"day\",\"in\",\"April\",\",\",\"and\",\"the\",\"clocks\",\"were\",\"striking\",\"thirteen\",\".\"]`\n",
    "\n",
    "Lists are created by typing comma separated values inside square brackets. eg. `[\"one\",\"two\",\"three\"]` or `[4,5,6]`\n",
    "\n",
    "You can print out all elements in the list at once using `print(your_variable)`.\n",
    "\n",
    "It's important not to get confused between different types of brackets.  Remember that square brackets are for lists."
   ]
  },
  {
   "cell_type": "code",
   "execution_count": null,
   "metadata": {},
   "outputs": [],
   "source": [
    "tokens = [\"It\",\"was\",\"a\",\"bright\",\"cold\",\"day\",\"in\",\"April\",\",\",\"and\",\"the\",\"clocks\",\"were\",\"striking\",\"thirteen\",\".\"]\n",
    "print(tokens) # print all elements"
   ]
  },
  {
   "cell_type": "markdown",
   "metadata": {},
   "source": [
    "It is very important to get your quotes correct when working with strings (text) and lists (collections).\n",
    "\n",
    "The colours in your code editor will help you."
   ]
  },
  {
   "cell_type": "markdown",
   "metadata": {},
   "source": [
    "### 🐛 Mini Task 4.5\n",
    "\n",
    "The code below is not correct. There are 5 errors in there. Can you fix them?\n",
    "\n",
    "Try running the cell, and reading the error. Errors are your friends.\n",
    "\n",
    "Run the cell, read the error and ONLY FIX WHAT THE ERROR TELLS YOU TO FIX, one step at a time. Then run the cell again, see the new error and fix only that. It's a very good practice and you will learn a lot!\n",
    "\n",
    "Hint: single quotes and double quotes are interchangable, you can use 'hello' and \"hello\""
   ]
  },
  {
   "cell_type": "code",
   "execution_count": null,
   "metadata": {},
   "outputs": [],
   "source": [
    "# Run this cell, and only fix what the error tells you. Resist the urge to fix other mistakes.\n",
    "# notice a little mini-arrow pointing up  ^  to the exact point something is wrong.\n",
    "\n",
    "reaction = [\"It\"s\", \"my\" \"absolutely\", favourite, \"song\", !]\n",
    "print(reaction"
   ]
  },
  {
   "cell_type": "markdown",
   "metadata": {},
   "source": [
    "<details><summary style='color:blue'>CLICK HERE TO SEE THE THE ANSWER. BUT TRY TO DO IT YOURSELF FIRST!</summary>\n",
    "\n",
    "    ### BEGIN SOLUTION\n",
    "    reaction = [\"It's\", \"my\", \"absolutely\", \"favourite\", \"song\", \"!\"]\n",
    "    print(reaction)\n",
    "    ### END SOLUTION\n",
    "</details>"
   ]
  },
  {
   "cell_type": "markdown",
   "metadata": {},
   "source": [
    "A list holds an **ordered** sequence of elements (in this case words or punctuation) and each element can be accessed using its index (or position in the list).\n",
    "\n",
    "It means that if you want to get the n'th item in a list (where n is it's index), you need to say something like `list_name[n]`. \n",
    "\n",
    "For example: `tokens[3]` - using the name of the list eg. `tokens`, and the desired index in square brackets eg. `[3]` will return the item in tokens list, stored at index (place) 3. "
   ]
  },
  {
   "cell_type": "code",
   "execution_count": null,
   "metadata": {},
   "outputs": [],
   "source": [
    "# for example to print first item in the below list  \n",
    "tokens = [\"It\",\"was\",\"a\",\"bright\",\"cold\",\"day\",\"in\",\"April\",\",\",\"and\",\"the\",\"clocks\",\"were\",\"striking\",\"thirteen\",\".\"]\n",
    "\n",
    "# you would use\n",
    "print(tokens[1]) # print the first element"
   ]
  },
  {
   "cell_type": "markdown",
   "metadata": {},
   "source": [
    "Wait WHAT? That should have printed `'It'`\n",
    "\n",
    "Note: Python starts counting at 0 rather than at 1, so indexes start with 0 instead of 1.  So the first element in the list has index 0, and is accessed with `tokens[0]` and the `tokens[1]` actually returns the second item in the list (which is `'was'`)."
   ]
  },
  {
   "cell_type": "markdown",
   "metadata": {},
   "source": [
    "### 🐛 Mini Task 4.6\n",
    "\n",
    "Fix the below code to print the first (not the second) item in the list.\n",
    "How would you access the third one, or the last one? Add lines of code that do that.\n",
    "And how about accessing an item at an index that does not exist? like 100, or -1 ? What happens then?  Try it."
   ]
  },
  {
   "cell_type": "code",
   "execution_count": null,
   "metadata": {},
   "outputs": [],
   "source": [
    "print(tokens[1])"
   ]
  },
  {
   "cell_type": "markdown",
   "metadata": {},
   "source": [
    "<details><summary style='color:blue'>CLICK HERE TO SEE THE THE ANSWER. BUT TRY TO DO IT YOURSELF FIRST!</summary>\n",
    "\n",
    "    ### BEGIN SOLUTION\n",
    "    print(tokens[0])\n",
    "    print(tokens[2])\n",
    "    print(tokens[15])\n",
    "    ### END SOLUTION\n",
    "</details>"
   ]
  },
  {
   "cell_type": "markdown",
   "metadata": {},
   "source": [
    "You can also print a slice (a section) of the list (e.g. the first two elements of the list). You do that by specifying the start and end of your slice. \n",
    "\n",
    "The syntax is `some_list_variable[beginning_index:end_index]` so to get second half of our `tokens` list we could use: `tokens[4:9]`. It will be a slice which starts with the item at index 4 (`'cold'`) and ends after at index 8 (`','`).  You can see that the end index is non-inclusive, so when you specify the end index to be 9, the last element of the slice is the element with the index 8."
   ]
  },
  {
   "cell_type": "code",
   "execution_count": null,
   "metadata": {},
   "outputs": [],
   "source": [
    "print(tokens[4:9])"
   ]
  },
  {
   "cell_type": "code",
   "execution_count": null,
   "metadata": {},
   "outputs": [],
   "source": [
    "# e.g. the first two elements of the list:\n",
    "print(tokens[0:2])\n",
    "\n",
    "# e.g. from third (at index 2) till sixth (at index 5) of the list:\n",
    "print(tokens[2:6])"
   ]
  },
  {
   "cell_type": "markdown",
   "metadata": {},
   "source": [
    "It takes a bit of time to get used to counting from 0 and that the end index of a slice is not included. eg. `tokens[0:2]` is not ` ['It', 'was', 'a']` but ` ['It', 'was']` because the item at end_index (`2`) is not included."
   ]
  },
  {
   "cell_type": "markdown",
   "metadata": {},
   "source": [
    "### 🐛 Mini Task 4.7\n",
    "\n",
    "Write code below that will:\n",
    "\n",
    "- print the first 5 items of the tokens list,\n",
    "- print the last 5 items,\n",
    "- print all items apart from the first and last one,\n",
    "- print just `['cold','day']`"
   ]
  },
  {
   "cell_type": "code",
   "execution_count": null,
   "metadata": {},
   "outputs": [],
   "source": [
    "tokens = [\"It\",\"was\",\"a\",\"bright\",\"cold\",\"day\",\"in\",\"April\",\",\",\"and\",\"the\",\"clocks\",\"were\",\"striking\",\"thirteen\",\".\"]\n",
    "# write your answers here:"
   ]
  },
  {
   "cell_type": "markdown",
   "metadata": {},
   "source": [
    "<details><summary style='color:blue'>CLICK HERE TO SEE THE THE ANSWER. BUT TRY TO DO IT YOURSELF FIRST!</summary>\n",
    "\n",
    "    ### BEGIN SOLUTION\n",
    "    tokens = [\"It\",\"was\",\"a\",\"bright\",\"cold\",\"day\",\"in\",\"April\",\",\",\"and\",\"the\",\"clocks\",\"were\",\"striking\",\"thirteen\",\".\"]\n",
    "    print(tokens[0:5])\n",
    "    print(tokens[11:])\n",
    "    print(tokens[1:15])\n",
    "    print(tokens[4:6])\n",
    "    ### END SOLUTION\n",
    "</details>"
   ]
  },
  {
   "cell_type": "markdown",
   "metadata": {},
   "source": [
    "#### Additional ways to address indexes: default value and counting from the end"
   ]
  },
  {
   "cell_type": "code",
   "execution_count": null,
   "metadata": {},
   "outputs": [],
   "source": [
    "# if you skip the number before or after the : it will assume 'all the way till the beginning/end'\n",
    "# so these two lines do the same thing, but the second one uses the 'default value' of 'from the begining'\n",
    "print(tokens[0:3])\n",
    "print(tokens[:3]) "
   ]
  },
  {
   "cell_type": "code",
   "execution_count": null,
   "metadata": {},
   "outputs": [],
   "source": [
    "# and here the second one uses the 'default value' of 'till the end' \n",
    "print(tokens[3:16])\n",
    "print(tokens[3:])"
   ]
  },
  {
   "cell_type": "code",
   "execution_count": null,
   "metadata": {},
   "outputs": [],
   "source": [
    "# you can use minus to count from the end using negative numbers\n",
    "# eg. the second line to get the last 3 items, start with \"third from the end\" and goes to the end\n",
    "print(tokens[13:])\n",
    "print(tokens[-3:])"
   ]
  },
  {
   "cell_type": "code",
   "execution_count": null,
   "metadata": {},
   "outputs": [],
   "source": [
    "# to get all the words apart from the last two, we can use negative values as the end index\n",
    "print(tokens[:7])\n",
    "print(tokens[:-9])"
   ]
  },
  {
   "cell_type": "markdown",
   "metadata": {},
   "source": [
    "Finally you might want to check how long a list is. For that you can pass the list into Python's length function len( something) where something is the collection you want to measure."
   ]
  },
  {
   "cell_type": "code",
   "execution_count": null,
   "metadata": {},
   "outputs": [],
   "source": [
    "print(len(tokens))"
   ]
  },
  {
   "cell_type": "markdown",
   "metadata": {},
   "source": [
    "Note you can also use the ```len()``` function to tell you how many characters (i.e. letters or numbers) are in a string. ```print(len(\"bright\"))``` will produce the result 6, as the word ‘bright’ has six letters in it. Or here is how to pring the number of letters of the first token in your list:"
   ]
  },
  {
   "cell_type": "code",
   "execution_count": null,
   "metadata": {},
   "outputs": [],
   "source": [
    "print(len(tokens[0]))"
   ]
  },
  {
   "cell_type": "markdown",
   "metadata": {},
   "source": [
    "### 4.6 A \"for\" loop\n",
    "\n",
    "To understand a for loop, it's if we see how one works in code first. So, read the comments in the next code cell, run it and see what happens."
   ]
  },
  {
   "cell_type": "code",
   "execution_count": null,
   "metadata": {},
   "outputs": [],
   "source": [
    "# this will loop through each word in the list, and print it with a \"I say:\" before it\n",
    "\n",
    "tokens = [\"It\",\"was\",\"a\",\"bright\",\"cold\",\"day\",\"in\",\"April\",\",\",\"and\",\"the\",\"clocks\",\"were\",\"striking\",\"thirteen\",\".\"]\n",
    "for word in tokens:\n",
    "    print(\"I say:\", word) #this will happen 16 times. Once for each item in a list\n",
    "    \n",
    "print(\"Done looping\")"
   ]
  },
  {
   "cell_type": "markdown",
   "metadata": {},
   "source": [
    "The syntax of a for loop starts with `for one_thing in many_things:` where:\n",
    "\n",
    "- `many_things` is the collection you want to loop through (in our case a list of tokens.)\n",
    "- `one_thing` is a temporary variable name that will represent the exact element of `many_things` that we are dealing with during each cycle of the loop.\n",
    "\n",
    "The code has run 16 times: first time the `word` variable was set to `\"It\"`, second time it was set to `\"was\"` and so on.\n",
    "\n",
    "So when we are looping (going through) the list, the temporary variable keeps changing value until we run out of things to loop through.\n",
    "\n",
    "The indented pieces of code after the colon (`:`)  specifies what needs to be done with `one_thing`. Everything after that which is part of the for loop has to be indented.  The indenting (either a tab or four spaces) tells Python that what follows needs to be executed each time.\n",
    "\n",
    "When the indentation ends, Python will know to stop looping.\n",
    "\n",
    "You can als specify the collection to loop through directly - it does not need to be a variable, as shown in the next example:"
   ]
  },
  {
   "cell_type": "code",
   "execution_count": null,
   "metadata": {},
   "outputs": [],
   "source": [
    "for day in ['Monday', 'Tuesday', 'Wednesday']:\n",
    "    print(\"the day is\", day)   "
   ]
  },
  {
   "cell_type": "markdown",
   "metadata": {},
   "source": [
    "### 🐛 Mini Task 4.8\n",
    "\n",
    "- Can you print each item in tokens but surrounded by * like `*It*`?  Remember you can use the ```+``` sign to concatenate strings.\n",
    "- Harder: Can you print only the first 5 elements of the sentence, one on each line? Remember the slice syntax above `your_list[start : end]`."
   ]
  },
  {
   "cell_type": "code",
   "execution_count": null,
   "metadata": {},
   "outputs": [],
   "source": [
    "tokens = [\"It\",\"was\",\"a\",\"bright\",\"cold\",\"day\",\"in\",\"April\",\",\",\"and\",\"the\",\"clocks\",\"were\",\"striking\",\"thirteen\",\".\"]\n",
    "# write your answer here:"
   ]
  },
  {
   "cell_type": "markdown",
   "metadata": {},
   "source": [
    "<details><summary style='color:blue'>CLICK HERE TO SEE THE THE ANSWER. BUT TRY TO DO IT YOURSELF FIRST!</summary>\n",
    "\n",
    "    ### BEGIN SOLUTION\n",
    "    # Solution 1:\n",
    "    tokens = [\"It\",\"was\",\"a\",\"bright\",\"cold\",\"day\",\"in\",\"April\",\",\",\"and\",\"the\",\"clocks\",\"were\",\"striking\",\"thirteen\",\".\"]\n",
    "    for token in tokens:\n",
    "        print (\"*\" + token + \"*\")\n",
    "\n",
    "    # Solution 2:\n",
    "    for token in tokens[0:5]:\n",
    "        print (\"*\" + token + \"*\")\n",
    "    ### END SOLUTION\n",
    "</details>"
   ]
  },
  {
   "cell_type": "markdown",
   "metadata": {},
   "source": [
    "### 4.7 List comprehension (another useful way to loop)\n",
    "\n",
    "You can use this simplified loop syntax when you want to take a list of items and change each item into something else. Think about it like a conveyor belt: things go in on one side, and slightly changed things come out on the other side.\n",
    "\n",
    "The syntax for this is:\n",
    "\n",
    "`result = [my_output for one_item in all_items]`\n",
    "\n",
    "Example: for each token in tokens, represent it as a lowercase version of that token `word.lower()`, e.g. change `It` into `it`, `April` into `april` etc.  The result is a list of lower-cased tokens."
   ]
  },
  {
   "cell_type": "code",
   "execution_count": null,
   "metadata": {},
   "outputs": [],
   "source": [
    "# note: token.lower() turns that token into a lowercase (if it isn't already)\n",
    "\n",
    "tokens = [\"It\",\"was\",\"a\",\"bright\",\"cold\",\"day\",\"in\",\"April\",\",\",\"and\",\"the\",\"clocks\",\"were\",\"striking\",\"thirteen\",\".\"]\n",
    "lower_case_tokens = [token.lower() for token in tokens ]\n",
    "\n",
    "print(lower_case_tokens)"
   ]
  },
  {
   "cell_type": "markdown",
   "metadata": {},
   "source": [
    "### 4.8 Compare two values with == (and you'll get True or False)\n",
    "\n",
    "Note that because the equals sign `=` already has a meaning in programming (it's used for assigning variables), Python has to use another symbol for EQUALS.\n",
    "\n",
    "In Python, we use double equals sign `==` to check if two things are equal to each other.\n"
   ]
  },
  {
   "cell_type": "code",
   "execution_count": null,
   "metadata": {},
   "outputs": [],
   "source": [
    "print(\"Hello\" == \"Bye\")\n",
    "print(\"Hello\" == \"Hello\")"
   ]
  },
  {
   "cell_type": "code",
   "execution_count": null,
   "metadata": {},
   "outputs": [],
   "source": [
    "# Or even\n",
    "word = \"Hello\"\n",
    "print(word == \"Bye\")\n",
    "print(word == \"Hello\")"
   ]
  },
  {
   "cell_type": "markdown",
   "metadata": {},
   "source": [
    "You can also combine conditions with logic operators: <font color=\"green\">and</font>, <font color=\"green\">or</font>, <font color=\"green\">not</font>"
   ]
  },
  {
   "cell_type": "code",
   "execution_count": null,
   "metadata": {},
   "outputs": [],
   "source": [
    "username = \"Jackie\"\n",
    "password = \"secret\"\n",
    "print(username == \"Nicola\" and password == \"secret\") # False, because 'and' needs both sides to be true\n",
    "print(username == \"Nicola\" or password == \"secret\")  # True, because 'or' is fine with just one side being true\n",
    "print(not username == \"Nicola\")                      # True, because 'username == \"Nicola\"' is false, and 'not false' is true"
   ]
  },
  {
   "cell_type": "markdown",
   "metadata": {},
   "source": [
    "### 4.9 Conditionals if / elif / else  (to pick which lines of code to skip)\n",
    "Most of the time, all of your lines of code are run from top to bottom. Sometimes, though, you might want to choose to run some lines and not others. For example, you might want to only print words if they are longer than 5 letters.\n",
    "\n",
    "In Python we can create conditions (simple rules) that will direct the 'flow' of our code, a little bit like how semaphores direct train tracks, or blinking roadwork signs direct car traffic.\n",
    "\n",
    "Conditionals either say: come this way (true) or don't come this way (false).\n",
    "\n",
    "If the condition (a sort of test) passes, the indented code underneath it is executed. If the condition doesn't pass, then the indented code underneath it is skipped."
   ]
  },
  {
   "cell_type": "code",
   "execution_count": null,
   "metadata": {},
   "outputs": [],
   "source": [
    "password = \"secret\"\n",
    "if password == \"secret\":\n",
    "    print(\"Your password is too simple.\") # This happens if password is \"secret\"\n",
    "else:\n",
    "    print(\"What a safe password!\")     # This happens otherwise"
   ]
  },
  {
   "cell_type": "markdown",
   "metadata": {},
   "source": [
    "So in the code cell above, the `if condition` checks if the password variable is equal to the word \"secret\". If that's the case then the code prints \"Your password is too simple.\" If the password is not \"secret\" then Python moves ot the next line to the `else statement` and \"What a safe password!\" gets printed.  In this particular case, the password is \"secret\" so the `if condition` is true.\n",
    "\n",
    "Note that you can use more than one `if condition` by means of one or more `elif statements`, as shown in the following notations:\n",
    "\n",
    "```\n",
    "if condition:\n",
    "    do this if true\n",
    "elif condition: \n",
    "    if the previous condition is false and this is true, then do this\n",
    "elif condition:\n",
    "    if the previous conditions are false and this is true, then do this\n",
    "...\n",
    "else:\n",
    "    do this if all previous conditions were false\n",
    "```\n",
    "\n",
    "In if statements, you need to include at least one if condition.  The elif and else statements are optional."
   ]
  },
  {
   "cell_type": "markdown",
   "metadata": {},
   "source": [
    "### 🐛 Mini Task 4.9\n",
    "\n",
    "Change the value of the password variable in the cell above to be something else and run it again.\n",
    "\n",
    "You can go further, providing more tests (conditions) to pass, using elif."
   ]
  },
  {
   "cell_type": "code",
   "execution_count": null,
   "metadata": {},
   "outputs": [],
   "source": [
    "# write your answer here:"
   ]
  },
  {
   "cell_type": "markdown",
   "metadata": {},
   "source": [
    "<details><summary style='color:blue'>CLICK HERE TO SEE THE THE ANSWER. BUT TRY TO DO IT YOURSELF FIRST!</summary>\n",
    "\n",
    "    ### BEGIN SOLUTION\n",
    "    password = \"aZptutl!\"\n",
    "    if password == \"secret\":\n",
    "        print(\"Your password is too simple.\")\n",
    "    elif password == \"01245667\":\n",
    "        print(\"Don't just use numbers in your password.\")\n",
    "    else:\n",
    "        print(\"What a safe password!\")  \n",
    "    ### END SOLUTION\n",
    "</details>"
   ]
  },
  {
   "cell_type": "markdown",
   "metadata": {},
   "source": [
    "### 🦋 Final Task\n",
    "\n",
    "Putting it all together, re-load the quote as a list of tokens, loop through the list and, for each token, print out the token and its character length, but only if their length is larger than 1 characters.\n",
    "\n",
    "Think about what you need to write this code. Hint: you need 1) create the list of tokens, 2) to loop through them and 3) to check what that their length is larger than 1 (`> 1`) before printing them and their length."
   ]
  },
  {
   "cell_type": "code",
   "execution_count": null,
   "metadata": {},
   "outputs": [],
   "source": [
    "# write your answers here:"
   ]
  },
  {
   "cell_type": "markdown",
   "metadata": {},
   "source": [
    "<details><summary style='color:blue'>CLICK HERE TO SEE THE THE ANSWER. BUT TRY TO DO IT YOURSELF FIRST!</summary>\n",
    "\n",
    "    ### BEGIN SOLUTION\n",
    "    tokens = [\"It\",\"was\",\"a\",\"bright\",\"cold\",\"day\",\"in\",\"April\",\",\",\"and\",\"the\",\"clocks\",\"were\",\"striking\",\"thirteen\",\".\"]\n",
    "\n",
    "    for token in tokens:\n",
    "        if len(token) > 1:\n",
    "            print(token, len(token))\n",
    "    ### END SOLUTION\n",
    "</details>"
   ]
  },
  {
   "cell_type": "code",
   "execution_count": null,
   "metadata": {},
   "outputs": [],
   "source": []
  }
 ],
 "metadata": {
  "kernelspec": {
   "display_name": "Python 3 (ipykernel)",
   "language": "python",
   "name": "python3"
  },
  "language_info": {
   "codemirror_mode": {
    "name": "ipython",
    "version": 3
   },
   "file_extension": ".py",
   "mimetype": "text/x-python",
   "name": "python",
   "nbconvert_exporter": "python",
   "pygments_lexer": "ipython3",
   "version": "3.11.4"
  }
 },
 "nbformat": 4,
 "nbformat_minor": 2
}

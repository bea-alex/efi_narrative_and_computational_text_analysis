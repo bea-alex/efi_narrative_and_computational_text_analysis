{
 "cells": [
  {
   "cell_type": "markdown",
   "id": "humanitarian-equipment",
   "metadata": {},
   "source": [
    "<img src=\"../images/RegExBadge.png\" alt=\"Chronicling America Search Example\" width=\"150px\" style=\"border:1px solid black;\" align=\"right\">\n",
    "\n",
    "# Badge 1 - Regular Expressions for Structuring Text Data and Searching\n",
    "\n",
    "What you'll learn in this Notebook:\n",
    "\n",
    "- What regular expressions are\n",
    "- How they work\n",
    "- How to use them yourself to transform a dataset"
   ]
  },
  {
   "cell_type": "markdown",
   "id": "particular-apache",
   "metadata": {},
   "source": [
    "## 1. What are Regular Expressions and what are they useful for?\n",
    "\n",
    "**Regular Expression:** A regular expression (or RegEx) is a sequence of characters that specifies a search pattern in text. Such patterns are used by string-searching algorithms to \"find\" or \"find and replace\" words in text.\n",
    "\n",
    "You can use regular expressions for word frequency analysis (e.g. to find all mentions of the words ```woman``` or ```women```, to explore your dataset and see how particular vocabulary is used in context or to transform your dataset into a particular structure. Regular expressions are a way to be a bit vague about text while being incredibly specific at the same time. The examples below will explain what we mean by that.\n",
    "\n",
    "In this notebook you will learn how to construct regular expressions. E.g., you can use a wildcard * or you can use a range of letters, e.g., [ae] (for a or e), [a-z] (for a to z), or numbers, e.g., [0-9] (for all single digits) etc. Regular expressions can be very powerful if used correctly. For example, to find all mentions of the words woman or women you need to use the following regular expression: wom[ae]n.\n",
    "\n",
    "This notebook will give you a taster for using regular expressions and some examples. For a more detailed overview of Regular Expressions, you can refer to the Programming Historian lesson 'Understanding Regular Expressions' at https://programminghistorian.org/en/lessons/understanding-regular-expressions.\n",
    "\n",
    "## 2. Building a Regular Expression\n",
    "\n",
    "Let's stick with our example and imagine we want to see all the words that refer to `women` in text. As human beings we know that this includes both the singular `woman` and plural `women`. Computers need us to be very very specific, and so regular expressions provided us with a way to capture such small but significant differences when searching text.\n",
    "\n",
    "The way to arrive at a Regular Expression is to specify what we want:\n",
    "\n",
    "- We could say: give me all occurrences of `woman` and `women` and then add them all.\n",
    "- We could say: give me all occurrences of `wom*n` where `*` is `a` or `e`. \n",
    "- We could say: give me all occurrences of `wom[ae]n`.\n",
    "- We could say: give me all exact matches of `^wom[ae]n$`, which also means that there can be nothing before or after these characters, so words like `superwomen` and `womanly` will not be included."
   ]
  },
  {
   "cell_type": "markdown",
   "id": "expanded-chain",
   "metadata": {},
   "source": [
    "## 3. A simple RegEx Search\n",
    "\n",
    "We will teach you how to use regular expressions in Python to prepare your dataset and structure it for further analysis.  You first need to import the regular expression module ```re```."
   ]
  },
  {
   "cell_type": "code",
   "execution_count": null,
   "id": "alien-encoding",
   "metadata": {},
   "outputs": [],
   "source": [
    "import re"
   ]
  },
  {
   "cell_type": "markdown",
   "id": "directed-movement",
   "metadata": {},
   "source": [
    "Before we use RegEx on our dataset let's first use it on some example strings.\n",
    "\n",
    "Say I want to know if a given string matches my RegEx. I can do that using the ```search()``` function which takes two parameters: the regular expression and the string you trying to find the RegEx in.\n",
    "\n",
    "There are two possible outcomes of searching for a RegEx:\n",
    "\n",
    "- **Found**: RegEx did find a match and returns a `re.Match` object (you can think of this as `True`)\n",
    "- **Not Found**: RegEx did not find a match and returns `None`  (you can think of this as `False`)\n",
    "\n",
    "Basically, either a particular string contains your RegEx or it does not.\n",
    "\n",
    "The first RegEx we will use is `^wom[ae]n$` and below we explain what it means:\n",
    "\n",
    "- `^` means: start here\n",
    "- `wom` and `n` means: look for these letters in this order\n",
    "- `[ae]` means: find one character from this list of characters inside the square brackets, so `[ae]` means find one character which is either `a` or `e`\n",
    "- `$` means: end here\n",
    "\n",
    "This way we can look for the words `women` and `woman` simultaneously."
   ]
  },
  {
   "cell_type": "code",
   "execution_count": null,
   "id": "handmade-community",
   "metadata": {},
   "outputs": [],
   "source": [
    "# search for regex and print result\n",
    "print(re.search('^wom[ae]n$', \"women\"))\n",
    "print(re.search('^wom[ae]n$', \"woman\"))\n",
    "print(re.search('^wom[ae]n$', \"something\"))  # no match\n",
    "print(re.search('^wom[ae]n$', \"superwoman\")) # not an exact match, so no match"
   ]
  },
  {
   "cell_type": "markdown",
   "id": "loose-morning",
   "metadata": {},
   "source": [
    "You can see above that the first two RegExes matched the specified string (the second parameter) whereas the last two didn't.\n",
    "\n",
    "Note that RegExes are case-sensitive, so you may sometimes want to lowercase your text, for example, before doing frequency analysis.  The following three examples show this behaviour."
   ]
  },
  {
   "cell_type": "code",
   "execution_count": null,
   "id": "precise-darwin",
   "metadata": {},
   "outputs": [],
   "source": [
    "print(re.search('^wom[ae]n$', \"women\"))\n",
    "print(re.search('^wom[ae]n$', \"Women\"))\n",
    "print(re.search('^wom[ae]n$', \"WOMEN\"))"
   ]
  },
  {
   "cell_type": "markdown",
   "id": "future-generator",
   "metadata": {},
   "source": [
    "### 🐛 Mini task 3.1\n",
    "Try matching for \"man\" or \"men\" simultaneously in the strings \"man\", \"men\" or \"manifold\". What happens if you remove the \"^\" and \"$\" from the RegEx? Try out a few examples of your own."
   ]
  },
  {
   "cell_type": "code",
   "execution_count": null,
   "id": "split-divorce",
   "metadata": {},
   "outputs": [],
   "source": [
    "# Write your solution here"
   ]
  },
  {
   "cell_type": "markdown",
   "id": "rubber-botswana",
   "metadata": {},
   "source": [
    "<details><summary style='color:blue'>CLICK HERE TO SEE THE THE ANSWER. BUT REALLY TRY TO DO IT YOURSELF FIRST!</summary>\n",
    "\n",
    "    ### BEGIN SOLUTION\n",
    "    print(re.search('^m[ae]n$', \"man\"))\n",
    "print(re.search('^m[ae]n$', \"men\"))\n",
    "    print(re.search('^m[ae]n$', \"manifold\"))\n",
    "    print(re.search('m[ae]n', \"manifold\"))\n",
    "    ... \n",
    "    ### END SOLUTION\n",
    "    \n",
    "</details>"
   ]
  },
  {
   "cell_type": "markdown",
   "id": "popular-calvin",
   "metadata": {},
   "source": [
    "## 4. Search and replace\n",
    "\n",
    "Next we'll show you how to search and replace strings using regular expressions. To do that we use the `sub()` function. It takes three parameters as input: 1) the regular expression, 2) the string replacement and 3) the string on which the replacement is performed.\n",
    "\n",
    "Now take the sentence \"The woman walked down the street.\" Let's change the verb \"walked\" to \"ran\"."
   ]
  },
  {
   "cell_type": "code",
   "execution_count": null,
   "id": "treated-royalty",
   "metadata": {},
   "outputs": [],
   "source": [
    "# a sentence\n",
    "sentence=\"The woman walked down the street.\"\n",
    "\n",
    "# change verb to \"ran\"\n",
    "newSentence=re.sub('walked', 'ran', sentence)\n",
    "\n",
    "#print the new sentence\n",
    "print(newSentence)"
   ]
  },
  {
   "cell_type": "markdown",
   "id": "bizarre-posting",
   "metadata": {},
   "source": [
    "Note that the `sub()` function's parameters can be either expressed directly as RegExes or strings or can be entered by means of variables containing them.  So in the above example the sentence variable contains the sentence string which the RegEx has to be matched to.  The output, i.e. the new sentence with the verb substituted, is then saved into the `newSentence` variable.\n",
    "\n",
    "We will use this functionality later in this notebook when we will do such string substitutions in sequence."
   ]
  },
  {
   "cell_type": "markdown",
   "id": "behind-forth",
   "metadata": {},
   "source": [
    "### 🐛 Mini task 4.1\n",
    "Try this out yourself and change \"street\" to \"road\"."
   ]
  },
  {
   "cell_type": "code",
   "execution_count": null,
   "id": "international-simpson",
   "metadata": {},
   "outputs": [],
   "source": [
    "# Write your solution here\n"
   ]
  },
  {
   "cell_type": "markdown",
   "id": "fundamental-question",
   "metadata": {},
   "source": [
    "<details><summary style='color:blue'>CLICK HERE TO SEE THE THE ANSWER. BUT REALLY TRY TO DO IT YOURSELF FIRST!</summary>\n",
    "\n",
    "    ### BEGIN SOLUTION\n",
    "    sentence=\"The woman walked down the street.\"\n",
    "    newSentence=re.sub('streed', 'road', sentence)\n",
    "    print(newSentence)\n",
    "    ### END SOLUTION\n",
    "    \n",
    "</details>"
   ]
  },
  {
   "cell_type": "markdown",
   "id": "naval-favor",
   "metadata": {},
   "source": [
    "## 5. Using Regular Expressions to structure your data\n",
    "\n",
    "Next you use what you have learned to structure your dataset.\n",
    "\n",
    "First you need to know how to load the data.  You can do that using the `open()` function in Python. You then need to use the `read()` function to tell Python to read the text that's in your specified file.  We are using the file called `Babysitting-Act3.txt` which is located in the `data` folder. To find this folder, navigate up a level from the folder this notebook is in."
   ]
  },
  {
   "cell_type": "code",
   "execution_count": null,
   "id": "filled-morocco",
   "metadata": {},
   "outputs": [],
   "source": [
    "file = open('../data/Babysitting-Act3.txt') \n",
    "text = file.read() "
   ]
  },
  {
   "cell_type": "markdown",
   "id": "norman-mother",
   "metadata": {},
   "source": [
    "If you want to check that the text was correctly read in, you can print the `text` variable."
   ]
  },
  {
   "cell_type": "code",
   "execution_count": null,
   "id": "breathing-heritage",
   "metadata": {},
   "outputs": [],
   "source": [
    "print(text)"
   ]
  },
  {
   "cell_type": "markdown",
   "id": "integral-resort",
   "metadata": {},
   "source": [
    "You can see that each speaker is mentioned at the start of their utterances all the way through the transcript.  Utterances, and sometimes more than one sentence are placed on one line.  The transcript also contains additional sounds and noises in square brackets, such as `[INAUDIBLE]`.\n",
    "\n",
    "We therefore need to perform a number of conversions to wrangle our data into a more structured table like format which mentions the speaker in front of each utterance and only contains words that were spoken without sound notations in square brackets, so it will end up looking something like this::\n",
    "\n",
    "|  |  |\n",
    "| --- | ----------- |\n",
    "| @Ira Glass | This is a story that caught our interest ... |\n",
    "| @Myron Jones | She had to say exactly where she was going ... |\n",
    "| @Carol Jones | ... |\n",
    "\n",
    "We can achieve that using a tab-separated values (TSV) format.  We'll change the file so that the speaker's name is given at the start of each line, followed by a tab character and the utterance produced by that speaker.\n",
    "\n",
    "Before we do this, you'll need to learn a few more notations for regular expressions.\n",
    "\n",
    "- `\\n` means a new line character\n",
    "- `\\t` means a tab character\n",
    "- `\\[` means a left square bracket character\n",
    "- `\\]` means a right square bracket character\n",
    "- `.*` means zero or more characters\n",
    "\n",
    "Each of these notations is 'escaped' with a backwards slash in front of it, so as to not confuse them with either their character equivalents (for \"n\" and \"t\") or the RegEx syntax `[]` which, as we saw earlier, is used to create a list of characters that can be matched, e.g. `[a-z]` meaning any lowercase alphabetic character or `[ae]` meaning either \"a\" or \"e\"."
   ]
  },
  {
   "cell_type": "markdown",
   "id": "catholic-terminology",
   "metadata": {},
   "source": [
    "First, let's add an \"@\" sign in front of the name of each of the speakers so that we can distinguish them from their utterances. Note that the text variable we read in earlier from the file contains the entire transcript in one big string.\n",
    "\n",
    "The three speakers in this story are called \"Ira Glass\", \"Myron Jones\" and \"Carol Jones\", so we need to find all the mentions of those names.\n",
    "\n",
    "We only want to do that, however, when these names are mentioned on their own on a line, not mentioned within the utterances. So the regular expression for matching needs to include the notation for a new line (`\\n`)at the start and end of each speaker's name.\n",
    "\n",
    "After finding all the matches for names, the RegEx will then replace those names with a new string (i.e. \"Ira Glass\" will be replaced with \"@Ira Glass\".  We will add an '@' sign to the front of each speaker name and replace the trailing newline character with a tab character.  We will do that for each name and save the result into a new variable each time."
   ]
  },
  {
   "cell_type": "code",
   "execution_count": null,
   "id": "understanding-relevance",
   "metadata": {},
   "outputs": [],
   "source": [
    "conversion1 = re.sub('\\nIra Glass\\n', '\\n@Ira Glass\\t', text)\n",
    "conversion2 = re.sub('\\nMyron Jones\\n', '\\n@Myron Jones\\t', conversion1)\n",
    "conversion3 = re.sub('\\nCarol Jones\\n', '\\n@Carol Jones\\t', conversion2)"
   ]
  },
  {
   "cell_type": "markdown",
   "id": "announced-research",
   "metadata": {},
   "source": [
    "Remember that we learned earlier, that a string substitution of one bit of text can be saved into a new variable. Here we use a sequence of substitutions, where the output of one becomes the input for the next, i.e. `conversion1` that was created using the `text` input is used for the second conversion to create `conversion2` and so on. Feel free to include a `print()` function into the code to see what each conversion looks like. This is also good for sanity checking to ensure that your code does what you want it to do.\n",
    "\n",
    "We have to do some further conversions to convert the text into the desired TSV format. \n",
    "\n",
    "In the original transcript, some of the speakers' longer utterances are written in more than one paragraph, but if we keep the newline characters that are used to create a new paragraph that will cause problems with the TSV format (if we were viewing it in a spreadsheet, the text in the second and subsequent paragraphs would be pushed into the next cells). We can solve this problem by replacing every newline character with a whitespace character."
   ]
  },
  {
   "cell_type": "code",
   "execution_count": null,
   "id": "exceptional-trouble",
   "metadata": {},
   "outputs": [],
   "source": [
    "conversion4 = re.sub('\\n', ' ', conversion3)"
   ]
  },
  {
   "cell_type": "markdown",
   "id": "mediterranean-sellers",
   "metadata": {},
   "source": [
    "Next, we need to put some of those newline characters back in, but only those that signal that a different speaker is speaking. So, we will insert a newline character in front of each speaker name starting with '@'."
   ]
  },
  {
   "cell_type": "code",
   "execution_count": null,
   "id": "psychological-azerbaijan",
   "metadata": {},
   "outputs": [],
   "source": [
    "conversion5 = re.sub('@', '\\n@', conversion4)\n",
    "print(conversion5)"
   ]
  },
  {
   "cell_type": "markdown",
   "id": "entire-joint",
   "metadata": {},
   "source": [
    "We also need to remove the interjections and non-textual sounds that the transcriber of the original audio has added in square brackets, as well as removing the square brackets themselves.\n",
    "\n",
    "Notice that we use `.*?` as part of the RegEx below, so zero or more characters but followed by a question mark.  This means to go for the shortest match, so to match up to the next right square brackets and not one later in the utterance.  If you don't include this question mark, the RegEx matching is \"greedy\" and goes for the longest match possible."
   ]
  },
  {
   "cell_type": "code",
   "execution_count": null,
   "id": "bizarre-textbook",
   "metadata": {},
   "outputs": [],
   "source": [
    "conversion6 = re.sub('\\[.*?\\]', '', conversion5)\n",
    "print(conversion6)"
   ]
  },
  {
   "cell_type": "markdown",
   "id": "dramatic-acrylic",
   "metadata": {},
   "source": [
    "We only want to keep the actual story and not the credits at the end (see the last line in conversion6). So let's remove that but including the name of the speaker (Ira Glass and a bit of text of the beginning and end of this utterance to match and remove it."
   ]
  },
  {
   "cell_type": "code",
   "execution_count": null,
   "id": "going-little",
   "metadata": {},
   "outputs": [],
   "source": [
    "conversion7 = re.sub(\"\\n@Ira Glass\\tToday's program .* This American Life.\", '', conversion6)\n",
    "print(conversion7)"
   ]
  },
  {
   "cell_type": "markdown",
   "id": "composed-circumstances",
   "metadata": {},
   "source": [
    "Lastly, we only want to keep the lines starting with a speaker (@), so not the title (\"Act Three: Yes There Is A Baby\").  There are various ways to do that.\n",
    "\n",
    "One way to do this is to split the converted text at each newline character into a list of strings (lines of text).  We then loop through this list of lines using a for loop, combined with an if statement.  If the line starts with an '@', we keep it (this is what the `startswith()` function does).  We then create a new variable, `cleanedText`, which we use to store the cleaned text strings. As the code iterates through each line in the story, only the matched lines are added to the variable. Any lines that don't start with '@' are ignored."
   ]
  },
  {
   "cell_type": "code",
   "execution_count": null,
   "id": "compliant-johnson",
   "metadata": {},
   "outputs": [],
   "source": [
    "# create empty variable\n",
    "cleanedText=\"\"\n",
    "\n",
    "# loop through list of lines (i.e. converted file split on newlines)\n",
    "for line in conversion7.split('\\n'):\n",
    "    \n",
    "    # if the line start with @ then add it to the cleaneText variable followed by a newline\n",
    "    # we also strip any trailing whitespace using the strip() function\n",
    "    if line.startswith('@'):\n",
    "        cleanedText = cleanedText+line.strip()+\"\\n\"\n",
    "\n",
    "# print cleaned Text\n",
    "print(cleanedText)   "
   ]
  },
  {
   "cell_type": "markdown",
   "id": "precious-march",
   "metadata": {},
   "source": [
    "Hurray, we have created our tab-separated format. \\O/\n",
    "\n",
    "Now we need to write the string to a new file and save it in the data directory so that we can use it later.  We do that using the `open()` and `write()` functions. Note that we can specify the format using the .tsv file extension (`Babysitting-Act3-cleaned.tsv`).  That way it's easier to tell that the format of our new cleaned file is TSV.\n",
    "\n",
    "Once you've run the next bit of code, go and take a look in the `data` directory. You should now see the new TSV file `Babysitting-Act3-cleaned.tsv` in there."
   ]
  },
  {
   "cell_type": "code",
   "execution_count": null,
   "id": "active-release",
   "metadata": {},
   "outputs": [],
   "source": [
    "with open('../data/Babysitting-Act3-cleaned.tsv', 'w') as f:\n",
    "    f.write(cleanedText)"
   ]
  },
  {
   "cell_type": "markdown",
   "id": "disciplinary-kitchen",
   "metadata": {},
   "source": [
    "### 🐛 Mini task 5.1: \n",
    "\n",
    "Can you think of another way of filtering out the title from the story but using the `sub()` function? "
   ]
  },
  {
   "cell_type": "code",
   "execution_count": null,
   "id": "harmful-european",
   "metadata": {},
   "outputs": [],
   "source": [
    "# Write your solution here\n"
   ]
  },
  {
   "cell_type": "markdown",
   "id": "classified-serial",
   "metadata": {},
   "source": [
    "<details><summary style='color:blue'>CLICK HERE TO SEE THE THE ANSWER. BUT REALLY TRY TO DO IT YOURSELF FIRST!</summary>\n",
    "\n",
    "    ### BEGIN SOLUTION\n",
    "    cleanText = re.sub('Act Three: Yes There Is A Baby\\n', '', conversion7)\n",
    "    print(cleanedText)\n",
    "    ### END SOLUTION\n",
    "    \n",
    "</details>"
   ]
  },
  {
   "cell_type": "markdown",
   "id": "enabling-ready",
   "metadata": {},
   "source": [
    "Before we finish this lesson, you should try out one final function, `findall()`, which is used in combination with Regular Expressions to find all instances of a search term or query. Let's find all occurrences of the word \"mother\" in this story.  We'll use the cleaned text stored in the `cleanedText` variable to do this."
   ]
  },
  {
   "cell_type": "code",
   "execution_count": null,
   "id": "isolated-individual",
   "metadata": {},
   "outputs": [],
   "source": [
    "re.findall('mother', cleanedText)"
   ]
  },
  {
   "cell_type": "markdown",
   "id": "broadband-toddler",
   "metadata": {},
   "source": [
    "When you run the above code cell, you'll get a list of all the instances of mother.  You can count that using the `len()` function."
   ]
  },
  {
   "cell_type": "code",
   "execution_count": null,
   "id": "mechanical-airplane",
   "metadata": {},
   "outputs": [],
   "source": [
    "mothers=re.findall('mother', cleanedText)\n",
    "len(mothers)"
   ]
  },
  {
   "cell_type": "markdown",
   "id": "collective-barrel",
   "metadata": {},
   "source": [
    "You can see how Regular Expressions would come in handy for frequency analysis of words in text as is used in Corpus Linguistics.\n",
    "\n",
    "You can also display the context of each of the occurrences, for example, by extending the regular expression to include all character before and after it on the same line of text."
   ]
  },
  {
   "cell_type": "code",
   "execution_count": null,
   "id": "reserved-turner",
   "metadata": {},
   "outputs": [],
   "source": [
    "re.findall('.*mother.*', cleanedText)"
   ]
  },
  {
   "cell_type": "markdown",
   "id": "stupid-elizabeth",
   "metadata": {},
   "source": [
    "### 🦋 Final task (optional):\n",
    "If you are done with everything already, do the above searches for the word \"father\" and see how often it occurs."
   ]
  },
  {
   "cell_type": "code",
   "execution_count": null,
   "id": "greek-solid",
   "metadata": {},
   "outputs": [],
   "source": [
    "# Write your solution here\n"
   ]
  },
  {
   "cell_type": "markdown",
   "id": "otherwise-restoration",
   "metadata": {},
   "source": [
    "<details><summary style='color:blue'>CLICK HERE TO SEE THE THE ANSWER. BUT REALLY TRY TO DO IT YOURSELF FIRST!</summary>\n",
    "\n",
    "    ### BEGIN SOLUTION\n",
    "    mothers=re.findall('father', cleanedText)\n",
    "    len(mothers)\n",
    "    ### END SOLUTION\n",
    "    \n",
    "</details>"
   ]
  }
 ],
 "metadata": {
  "kernelspec": {
   "display_name": "Python 3 (ipykernel)",
   "language": "python",
   "name": "python3"
  },
  "language_info": {
   "codemirror_mode": {
    "name": "ipython",
    "version": 3
   },
   "file_extension": ".py",
   "mimetype": "text/x-python",
   "name": "python",
   "nbconvert_exporter": "python",
   "pygments_lexer": "ipython3",
   "version": "3.11.8"
  }
 },
 "nbformat": 4,
 "nbformat_minor": 5
}
